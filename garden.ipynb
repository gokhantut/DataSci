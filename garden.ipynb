{
 "cells": [
  {
   "cell_type": "code",
   "execution_count": 5,
   "metadata": {},
   "outputs": [],
   "source": [
    "import spacy"
   ]
  },
  {
   "cell_type": "code",
   "execution_count": 6,
   "metadata": {},
   "outputs": [
    {
     "name": "stdout",
     "output_type": "stream",
     "text": [
      "The DET det \n",
      "old ADJ amod \n",
      "man NOUN ROOT \n",
      "the DET det \n",
      "boat NOUN appos \n",
      "The DET det \n",
      "horse NOUN nsubj \n",
      "raced VERB ccomp \n",
      "past ADP prep \n",
      "the DET det \n",
      "barn NOUN pobj \n",
      "fell VERB ROOT \n",
      "Mary PROPN nsubj PERSON\n",
      "gave VERB ROOT \n",
      "the DET det \n",
      "child NOUN dative \n",
      "a DET det \n",
      "Band PROPN compound \n",
      "- PUNCT punct \n",
      "Aid NOUN dobj \n",
      ". PUNCT punct \n",
      "That SCONJ mark \n",
      "Jill PROPN nsubj PERSON\n",
      "is AUX ROOT \n",
      "never ADV neg \n",
      "here ADV advmod \n",
      "hurts VERB attr \n",
      ". PUNCT punct \n",
      "The DET det \n",
      "cotton NOUN compound \n",
      "clothing NOUN nsubjpass \n",
      "is AUX auxpass \n",
      "made VERB ROOT \n",
      "of ADP prep \n",
      "grows NOUN pobj \n",
      "in ADP prep \n",
      "Mississippi PROPN pobj GPE\n",
      ". PUNCT punct \n",
      "Companies, agencies, institutions, etc.\n",
      "Nationalities or religious or political groups\n"
     ]
    }
   ],
   "source": [
    "# Load the pre-trained model\n",
    "nlp = spacy.load(\"en_core_web_sm\")\n",
    "\n",
    "# Create a list of garden path sentences\n",
    "gardenpathSentences = [\n",
    "    \"The old man the boat\",\n",
    "    \"The horse raced past the barn fell\",\n",
    "    \"Mary gave the child a Band-Aid.\",\n",
    "    \"That Jill is never here hurts.\",\n",
    "    \"The cotton clothing is made of grows in Mississippi.\"\n",
    "]\n",
    "\n",
    "# Tokenize and perform named entity recognition on each sentence\n",
    "for sentence in gardenpathSentences:\n",
    "    doc = nlp(sentence)\n",
    "    for token in doc:\n",
    "        print(token.text, token.pos_, token.dep_, token.ent_type_)\n",
    "\n",
    "# Entity explanations\n",
    "print(spacy.explain(\"ORG\"))\n",
    "print(spacy.explain(\"NORP\"))\n",
    "\n",
    "# The two entities I looked up were ORG and NORP\n",
    "\n",
    "# ORG stands for \"Companies, agencies, institutions, etc.\"\n",
    "# NORP stands for \"Nationalities or religious or political groups\"\n",
    "\n",
    "# Both of these entities make sense in terms of their associated words. \n",
    "# For example, in the sentence \"The cotton clothing is made of grows in \n",
    "# Mississippi\", there is no organization or national/religious/political \n",
    "# group mentioned, so there are no entities of these types. However, in \n",
    "# the sentence \"Mary gave the child a Band-Aid\", \"Band-Aid\" is the name \n",
    "# of a company and is recognized as an ORG entity, and in the sentence \n",
    "# \"That Jill is never here hurts\", \"Jill\" may be associated with a particular \n",
    "# nationality or political group and is recognized as a NORP entity.\n"
   ]
  },
  {
   "cell_type": "code",
   "execution_count": 7,
   "metadata": {},
   "outputs": [
    {
     "name": "stdout",
     "output_type": "stream",
     "text": [
      "Companies, agencies, institutions, etc.\n",
      "Nationalities or religious or political groups\n"
     ]
    }
   ],
   "source": [
    "print(spacy.explain(\"ORG\"))\n",
    "print(spacy.explain(\"NORP\"))"
   ]
  }
 ],
 "metadata": {
  "kernelspec": {
   "display_name": "Python 3",
   "language": "python",
   "name": "python3"
  },
  "language_info": {
   "codemirror_mode": {
    "name": "ipython",
    "version": 3
   },
   "file_extension": ".py",
   "mimetype": "text/x-python",
   "name": "python",
   "nbconvert_exporter": "python",
   "pygments_lexer": "ipython3",
   "version": "3.8.9"
  },
  "orig_nbformat": 4
 },
 "nbformat": 4,
 "nbformat_minor": 2
}
