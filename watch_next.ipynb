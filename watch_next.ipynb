{
 "cells": [
  {
   "cell_type": "code",
   "execution_count": 1,
   "metadata": {},
   "outputs": [],
   "source": [
    "import spacy"
   ]
  },
  {
   "cell_type": "code",
   "execution_count": 3,
   "metadata": {},
   "outputs": [
    {
     "name": "stdout",
     "output_type": "stream",
     "text": [
      "Movie C\n"
     ]
    }
   ],
   "source": [
    "# Thise code uses the model en_core_web_md to predict the movie best to watch after planet HULK\n",
    "# Load the pre-trained Spacy model\n",
    "nlp = spacy.load('en_core_web_md')\n",
    "\n",
    "# Read in the movies file and extract the descriptions and titles\n",
    "with open('movies.txt', 'r') as f:\n",
    "    lines = f.readlines()\n",
    "    movie_descriptions = [line.split(\":\")[1].strip() for line in lines]\n",
    "    movie_titles = [line.split(\":\")[0].strip() for line in lines]\n",
    "\n",
    "# Define a function to find the most similar movie\n",
    "def find_similar_movie(description):\n",
    "    # Convert the input description to a Spacy document\n",
    "    input_doc = nlp(description)\n",
    "    \n",
    "    # Calculate the similarity between the input document and each movie description\n",
    "    similarities = []\n",
    "    for movie_description in movie_descriptions:\n",
    "        movie_doc = nlp(movie_description)\n",
    "        similarity = input_doc.similarity(movie_doc)\n",
    "        similarities.append(similarity)\n",
    "        \n",
    "    # Find the index of the most similar movie\n",
    "    most_similar_index = similarities.index(max(similarities))\n",
    "    \n",
    "    # Return the title of the most similar movie\n",
    "    return movie_titles[most_similar_index]\n",
    "\n",
    "# Test the function with the \"Planet Hulk\" description\n",
    "description = \"Will he save their world or destroy it? When the Hulk becomes too dangerous for the Earth, the Illuminati trick Hulk into a shuttle and launch him into space to a planet where the Hulk can live in peace. Unfortunately, Hulk lands on the planet Sakaar where he is sold into slavery and trained as a gladiator.\"\n",
    "similar_movie = find_similar_movie(description)\n",
    "print(similar_movie)\n"
   ]
  },
  {
   "cell_type": "code",
   "execution_count": 4,
   "metadata": {},
   "outputs": [
    {
     "name": "stdout",
     "output_type": "stream",
     "text": [
      "Movie G\n"
     ]
    },
    {
     "name": "stderr",
     "output_type": "stream",
     "text": [
      "/var/folders/h3/xdkm6d2n477__mb7yspsdy0h0gnp_h/T/ipykernel_8597/1777710717.py:19: UserWarning: [W007] The model you're using has no word vectors loaded, so the result of the Doc.similarity method will be based on the tagger, parser and NER, which may not give useful similarity judgements. This may happen if you're using one of the small models, e.g. `en_core_web_sm`, which don't ship with word vectors and only use context-sensitive tensors. You can always add your own word vectors, or use one of the larger models instead if available.\n",
      "  similarity = input_doc.similarity(movie_doc)\n"
     ]
    }
   ],
   "source": [
    "\n",
    "# Thise code uses the model en_core_web_md to predict the movie best to watch after planet HULK\n",
    "# Load the pre-trained Spacy model\n",
    "nlp = spacy.load('en_core_web_sm')\n",
    "\n",
    "# Read in the movies file and extract the descriptions and titles\n",
    "with open('movies.txt', 'r') as f:\n",
    "    lines = f.readlines()\n",
    "    movie_descriptions = [line.split(\":\")[1].strip() for line in lines]\n",
    "    movie_titles = [line.split(\":\")[0].strip() for line in lines]\n",
    "\n",
    "# Define a function to find the most similar movie\n",
    "def find_similar_movie(description):\n",
    "    # Convert the input description to a Spacy document\n",
    "    input_doc = nlp(description)\n",
    "    \n",
    "    # Calculate the similarity between the input document and each movie description\n",
    "    similarities = []\n",
    "    for movie_description in movie_descriptions:\n",
    "        movie_doc = nlp(movie_description)\n",
    "        similarity = input_doc.similarity(movie_doc)\n",
    "        similarities.append(similarity)\n",
    "        \n",
    "    # Find the index of the most similar movie\n",
    "    most_similar_index = similarities.index(max(similarities))\n",
    "    \n",
    "    # Return the title of the most similar movie\n",
    "    return movie_titles[most_similar_index]\n",
    "\n",
    "# Test the function with the \"Planet Hulk\" description\n",
    "description = \"Will he save their world or destroy it? When the Hulk becomes too dangerous for the Earth, the Illuminati trick Hulk into a shuttle and launch him into space to a planet where the Hulk can live in peace. Unfortunately, Hulk lands on the planet Sakaar where he is sold into slavery and trained as a gladiator.\"\n",
    "similar_movie = find_similar_movie(description)\n",
    "print(similar_movie)"
   ]
  },
  {
   "cell_type": "code",
   "execution_count": 6,
   "metadata": {},
   "outputs": [
    {
     "name": "stdout",
     "output_type": "stream",
     "text": [
      "['Movie C', 'Movie G', 'Movie F', 'Movie I', 'Movie B']\n"
     ]
    }
   ],
   "source": [
    "#This function retuns the most similar 5 movies rather than one, and orders them according to similarity. \n",
    "\n",
    "# Load the pre-trained Spacy model\n",
    "nlp = spacy.load('en_core_web_md')\n",
    "\n",
    "# Read in the movies file and extract the descriptions and titles\n",
    "with open('movies.txt', 'r') as f:\n",
    "    lines = f.readlines()\n",
    "    movie_descriptions = [line.split(\":\")[1].strip() for line in lines]\n",
    "    movie_titles = [line.split(\":\")[0].strip() for line in lines]\n",
    "\n",
    "# Define a function to find the most similar movies\n",
    "def find_similar_movies(description, top_n=5):\n",
    "    # Convert the input description to a Spacy document\n",
    "    input_doc = nlp(description)\n",
    "    \n",
    "    # Calculate the similarity between the input document and each movie description\n",
    "    similarities = []\n",
    "    for movie_description in movie_descriptions:\n",
    "        movie_doc = nlp(movie_description)\n",
    "        similarity = input_doc.similarity(movie_doc)\n",
    "        similarities.append(similarity)\n",
    "    \n",
    "    # Sort the movie titles by their similarity to the input description\n",
    "    sorted_indices = sorted(range(len(similarities)), key=lambda i: similarities[i], reverse=True)\n",
    "    sorted_titles = [movie_titles[i] for i in sorted_indices]\n",
    "    \n",
    "    # Return the top n most similar movie titles\n",
    "    return sorted_titles[:top_n]\n",
    "\n",
    "# Test the function with the \"Planet Hulk\" description\n",
    "description = \"Will he save their world or destroy it? When the Hulk becomes too dangerous for the Earth, the Illuminati trick Hulk into a shuttle and launch him into space to a planet where the Hulk can live in peace. Unfortunately, Hulk lands on the planet Sakaar where he is sold into slavery and trained as a gladiator.\"\n",
    "similar_movies = find_similar_movies(description)\n",
    "print(similar_movies)\n"
   ]
  }
 ],
 "metadata": {
  "kernelspec": {
   "display_name": "Python 3",
   "language": "python",
   "name": "python3"
  },
  "language_info": {
   "codemirror_mode": {
    "name": "ipython",
    "version": 3
   },
   "file_extension": ".py",
   "mimetype": "text/x-python",
   "name": "python",
   "nbconvert_exporter": "python",
   "pygments_lexer": "ipython3",
   "version": "3.8.9"
  },
  "orig_nbformat": 4
 },
 "nbformat": 4,
 "nbformat_minor": 2
}
